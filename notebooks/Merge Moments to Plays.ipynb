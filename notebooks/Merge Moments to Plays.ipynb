{
 "cells": [
  {
   "cell_type": "code",
   "execution_count": 1,
   "metadata": {
    "collapsed": true
   },
   "outputs": [],
   "source": [
    "import sys"
   ]
  },
  {
   "cell_type": "code",
   "execution_count": 22,
   "metadata": {
    "collapsed": true
   },
   "outputs": [],
   "source": [
    "sys.path.append('/home/immersinn/gits/nba_analytics_2/src/')"
   ]
  },
  {
   "cell_type": "code",
   "execution_count": 23,
   "metadata": {
    "collapsed": true
   },
   "outputs": [],
   "source": [
    "from importlib import reload"
   ]
  },
  {
   "cell_type": "code",
   "execution_count": 16,
   "metadata": {
    "collapsed": true
   },
   "outputs": [],
   "source": [
    "import utils\n",
    "import moments_plays_utils\n",
    "import pbp_prep"
   ]
  },
  {
   "cell_type": "code",
   "execution_count": 65,
   "metadata": {
    "collapsed": false
   },
   "outputs": [
    {
     "data": {
      "text/plain": [
       "<module 'moments_plays_utils' from '/home/immersinn/gits/nba_analytics_2/src/moments_plays_utils.py'>"
      ]
     },
     "execution_count": 65,
     "metadata": {},
     "output_type": "execute_result"
    }
   ],
   "source": [
    "reload(moments_plays_utils)"
   ]
  },
  {
   "cell_type": "code",
   "execution_count": 13,
   "metadata": {
    "collapsed": false
   },
   "outputs": [],
   "source": [
    "with utils.mongo_open('NBASD', 'moments_per_game') as conn:\n",
    "    gids = [g['_id'] for g in conn.query({})]"
   ]
  },
  {
   "cell_type": "code",
   "execution_count": 24,
   "metadata": {
    "collapsed": false
   },
   "outputs": [
    {
     "data": {
      "text/plain": [
       "'0021400010'"
      ]
     },
     "execution_count": 24,
     "metadata": {},
     "output_type": "execute_result"
    }
   ],
   "source": [
    "gids[0]"
   ]
  },
  {
   "cell_type": "code",
   "execution_count": 37,
   "metadata": {
    "collapsed": true
   },
   "outputs": [],
   "source": [
    "with utils.mongo_open('NBASD', 'Games') as conn:\n",
    "    game = [g for g in conn.query({'game_id' : gids[0]})][0]"
   ]
  },
  {
   "cell_type": "code",
   "execution_count": 38,
   "metadata": {
    "collapsed": false
   },
   "outputs": [
    {
     "data": {
      "text/plain": [
       "dict_keys(['season', '_id', 'game_stats', 'game_id', 'player_stats_adv', 'team_stats_adv', 'date', 'play_by_play'])"
      ]
     },
     "execution_count": 38,
     "metadata": {},
     "output_type": "execute_result"
    }
   ],
   "source": [
    "game.keys()"
   ]
  },
  {
   "cell_type": "code",
   "execution_count": 39,
   "metadata": {
    "collapsed": false
   },
   "outputs": [],
   "source": [
    "pbp = pbp_prep.preprocessPbp(game['play_by_play'])"
   ]
  },
  {
   "cell_type": "code",
   "execution_count": 40,
   "metadata": {
    "collapsed": false
   },
   "outputs": [
    {
     "data": {
      "text/html": [
       "<div>\n",
       "<table border=\"1\" class=\"dataframe\">\n",
       "  <thead>\n",
       "    <tr style=\"text-align: right;\">\n",
       "      <th></th>\n",
       "      <th>EVENTNUM</th>\n",
       "      <th>EVENTMSGTYPE</th>\n",
       "      <th>EVENTMSGACTIONTYPE</th>\n",
       "      <th>PERIOD</th>\n",
       "      <th>WCTIMESTRING</th>\n",
       "      <th>PCTIMESTRING</th>\n",
       "      <th>HOMEDESCRIPTION</th>\n",
       "      <th>NEUTRALDESCRIPTION</th>\n",
       "      <th>VISITORDESCRIPTION</th>\n",
       "      <th>SCORE</th>\n",
       "      <th>SCOREMARGIN</th>\n",
       "      <th>GAMECLOCK</th>\n",
       "    </tr>\n",
       "  </thead>\n",
       "  <tbody>\n",
       "    <tr>\n",
       "      <th>0</th>\n",
       "      <td>0</td>\n",
       "      <td>12</td>\n",
       "      <td>0</td>\n",
       "      <td>1</td>\n",
       "      <td>8:12 PM</td>\n",
       "      <td>12:00</td>\n",
       "      <td>None</td>\n",
       "      <td>None</td>\n",
       "      <td>None</td>\n",
       "      <td>None</td>\n",
       "      <td>None</td>\n",
       "      <td>720</td>\n",
       "    </tr>\n",
       "    <tr>\n",
       "      <th>1</th>\n",
       "      <td>1</td>\n",
       "      <td>10</td>\n",
       "      <td>0</td>\n",
       "      <td>1</td>\n",
       "      <td>8:12 PM</td>\n",
       "      <td>12:00</td>\n",
       "      <td>Jump Ball Dalembert vs. Gasol: Tip to Larkin</td>\n",
       "      <td>None</td>\n",
       "      <td>None</td>\n",
       "      <td>None</td>\n",
       "      <td>None</td>\n",
       "      <td>720</td>\n",
       "    </tr>\n",
       "    <tr>\n",
       "      <th>2</th>\n",
       "      <td>2</td>\n",
       "      <td>2</td>\n",
       "      <td>1</td>\n",
       "      <td>1</td>\n",
       "      <td>8:12 PM</td>\n",
       "      <td>11:39</td>\n",
       "      <td>MISS Shumpert 21' Jump Shot</td>\n",
       "      <td>None</td>\n",
       "      <td>None</td>\n",
       "      <td>None</td>\n",
       "      <td>None</td>\n",
       "      <td>699</td>\n",
       "    </tr>\n",
       "    <tr>\n",
       "      <th>3</th>\n",
       "      <td>3</td>\n",
       "      <td>4</td>\n",
       "      <td>0</td>\n",
       "      <td>1</td>\n",
       "      <td>8:12 PM</td>\n",
       "      <td>11:38</td>\n",
       "      <td>Stoudemire REBOUND (Off:1 Def:0)</td>\n",
       "      <td>None</td>\n",
       "      <td>None</td>\n",
       "      <td>None</td>\n",
       "      <td>None</td>\n",
       "      <td>698</td>\n",
       "    </tr>\n",
       "    <tr>\n",
       "      <th>4</th>\n",
       "      <td>4</td>\n",
       "      <td>2</td>\n",
       "      <td>1</td>\n",
       "      <td>1</td>\n",
       "      <td>8:13 PM</td>\n",
       "      <td>11:24</td>\n",
       "      <td>MISS Dalembert 13' Jump Shot</td>\n",
       "      <td>None</td>\n",
       "      <td>None</td>\n",
       "      <td>None</td>\n",
       "      <td>None</td>\n",
       "      <td>684</td>\n",
       "    </tr>\n",
       "  </tbody>\n",
       "</table>\n",
       "</div>"
      ],
      "text/plain": [
       "   EVENTNUM  EVENTMSGTYPE  EVENTMSGACTIONTYPE  PERIOD WCTIMESTRING  \\\n",
       "0         0            12                   0       1      8:12 PM   \n",
       "1         1            10                   0       1      8:12 PM   \n",
       "2         2             2                   1       1      8:12 PM   \n",
       "3         3             4                   0       1      8:12 PM   \n",
       "4         4             2                   1       1      8:13 PM   \n",
       "\n",
       "  PCTIMESTRING                               HOMEDESCRIPTION  \\\n",
       "0        12:00                                          None   \n",
       "1        12:00  Jump Ball Dalembert vs. Gasol: Tip to Larkin   \n",
       "2        11:39                   MISS Shumpert 21' Jump Shot   \n",
       "3        11:38              Stoudemire REBOUND (Off:1 Def:0)   \n",
       "4        11:24                  MISS Dalembert 13' Jump Shot   \n",
       "\n",
       "  NEUTRALDESCRIPTION VISITORDESCRIPTION SCORE SCOREMARGIN  GAMECLOCK  \n",
       "0               None               None  None        None        720  \n",
       "1               None               None  None        None        720  \n",
       "2               None               None  None        None        699  \n",
       "3               None               None  None        None        698  \n",
       "4               None               None  None        None        684  "
      ]
     },
     "execution_count": 40,
     "metadata": {},
     "output_type": "execute_result"
    }
   ],
   "source": [
    "pbp.head()"
   ]
  },
  {
   "cell_type": "code",
   "execution_count": 56,
   "metadata": {
    "collapsed": false
   },
   "outputs": [],
   "source": [
    "moments = utils.retrieve_game_moments(game['game_id'])"
   ]
  },
  {
   "cell_type": "code",
   "execution_count": 57,
   "metadata": {
    "collapsed": false
   },
   "outputs": [
    {
     "data": {
      "text/plain": [
       "(261, 24)"
      ]
     },
     "execution_count": 57,
     "metadata": {},
     "output_type": "execute_result"
    }
   ],
   "source": [
    "moments.shape"
   ]
  },
  {
   "cell_type": "code",
   "execution_count": 61,
   "metadata": {
    "collapsed": false
   },
   "outputs": [],
   "source": [
    "play = pbp.ix[83]\n",
    "moment = moments.ix[50]"
   ]
  },
  {
   "cell_type": "code",
   "execution_count": 66,
   "metadata": {
    "collapsed": false
   },
   "outputs": [
    {
     "data": {
      "text/html": [
       "<div>\n",
       "<table border=\"1\" class=\"dataframe\">\n",
       "  <thead>\n",
       "    <tr style=\"text-align: right;\">\n",
       "      <th></th>\n",
       "      <th>_id</th>\n",
       "      <th>away</th>\n",
       "      <th>event_id</th>\n",
       "      <th>game_clock</th>\n",
       "      <th>game_clock_end</th>\n",
       "      <th>game_clock_start</th>\n",
       "      <th>game_date</th>\n",
       "      <th>game_id</th>\n",
       "      <th>home</th>\n",
       "      <th>moment</th>\n",
       "      <th>...</th>\n",
       "      <th>player_ids_home</th>\n",
       "      <th>quarter</th>\n",
       "      <th>radius</th>\n",
       "      <th>shot_clock</th>\n",
       "      <th>shot_clock_end</th>\n",
       "      <th>shot_clock_start</th>\n",
       "      <th>team_id</th>\n",
       "      <th>timestamp</th>\n",
       "      <th>x_loc</th>\n",
       "      <th>y_loc</th>\n",
       "    </tr>\n",
       "  </thead>\n",
       "  <tbody>\n",
       "    <tr>\n",
       "      <th>49</th>\n",
       "      <td>5631532458a05c3c78db0144</td>\n",
       "      <td>Chicago Bulls</td>\n",
       "      <td>074</td>\n",
       "      <td>[133.0, 133.0, 133.0, 133.0, 133.0, 133.0, 133...</td>\n",
       "      <td>113.74</td>\n",
       "      <td>133.00</td>\n",
       "      <td>2014-10-29</td>\n",
       "      <td>0021400010</td>\n",
       "      <td>New York Knicks</td>\n",
       "      <td>[0, 0, 0, 0, 0, 0, 0, 0, 0, 0, 0, 1, 1, 1, 1, ...</td>\n",
       "      <td>...</td>\n",
       "      <td>[203499, 2405, 203112, 203501, 204037, 2546, 2...</td>\n",
       "      <td>1</td>\n",
       "      <td>[4.23423, 0.0, 0.0, 0.0, 0.0, 0.0, 0.0, 0.0, 0...</td>\n",
       "      <td>[24.0, 24.0, 24.0, 24.0, 24.0, 24.0, 24.0, 24....</td>\n",
       "      <td>22.09</td>\n",
       "      <td>24.00</td>\n",
       "      <td>[-1, 1610612752, 1610612752, 1610612752, 16106...</td>\n",
       "      <td>[1414628846179, 1414628846179, 1414628846179, ...</td>\n",
       "      <td>[74.82868, 63.73916, 87.41793, 88.37236, 82.04...</td>\n",
       "      <td>[24.15943, 36.6117, 33.56723, 16.43745, 16.401...</td>\n",
       "    </tr>\n",
       "    <tr>\n",
       "      <th>50</th>\n",
       "      <td>5631532458a05c3c78db0145</td>\n",
       "      <td>Chicago Bulls</td>\n",
       "      <td>075</td>\n",
       "      <td>[119.72, 119.72, 119.72, 119.72, 119.72, 119.7...</td>\n",
       "      <td>91.58</td>\n",
       "      <td>119.72</td>\n",
       "      <td>2014-10-29</td>\n",
       "      <td>0021400010</td>\n",
       "      <td>New York Knicks</td>\n",
       "      <td>[0, 0, 0, 0, 0, 0, 0, 0, 0, 0, 0, 1, 1, 1, 1, ...</td>\n",
       "      <td>...</td>\n",
       "      <td>[203499, 2405, 203112, 203501, 204037, 2546, 2...</td>\n",
       "      <td>1</td>\n",
       "      <td>[3.29813, 0.0, 0.0, 0.0, 0.0, 0.0, 0.0, 0.0, 0...</td>\n",
       "      <td>[12.05, 12.05, 12.05, 12.05, 12.05, 12.05, 12....</td>\n",
       "      <td>13.97</td>\n",
       "      <td>12.05</td>\n",
       "      <td>[-1, 1610612752, 1610612752, 1610612752, 16106...</td>\n",
       "      <td>[1414628876017, 1414628876017, 1414628876017, ...</td>\n",
       "      <td>[10.09885, 7.61414, 19.96256, 7.17221, 11.0445...</td>\n",
       "      <td>[34.96681, 8.61459, 34.43542, 16.63142, 34.798...</td>\n",
       "    </tr>\n",
       "  </tbody>\n",
       "</table>\n",
       "<p>2 rows × 24 columns</p>\n",
       "</div>"
      ],
      "text/plain": [
       "                         _id           away event_id  \\\n",
       "49  5631532458a05c3c78db0144  Chicago Bulls      074   \n",
       "50  5631532458a05c3c78db0145  Chicago Bulls      075   \n",
       "\n",
       "                                           game_clock  game_clock_end  \\\n",
       "49  [133.0, 133.0, 133.0, 133.0, 133.0, 133.0, 133...          113.74   \n",
       "50  [119.72, 119.72, 119.72, 119.72, 119.72, 119.7...           91.58   \n",
       "\n",
       "    game_clock_start   game_date     game_id             home  \\\n",
       "49            133.00  2014-10-29  0021400010  New York Knicks   \n",
       "50            119.72  2014-10-29  0021400010  New York Knicks   \n",
       "\n",
       "                                               moment  \\\n",
       "49  [0, 0, 0, 0, 0, 0, 0, 0, 0, 0, 0, 1, 1, 1, 1, ...   \n",
       "50  [0, 0, 0, 0, 0, 0, 0, 0, 0, 0, 0, 1, 1, 1, 1, ...   \n",
       "\n",
       "                          ...                          \\\n",
       "49                        ...                           \n",
       "50                        ...                           \n",
       "\n",
       "                                      player_ids_home quarter  \\\n",
       "49  [203499, 2405, 203112, 203501, 204037, 2546, 2...       1   \n",
       "50  [203499, 2405, 203112, 203501, 204037, 2546, 2...       1   \n",
       "\n",
       "                                               radius  \\\n",
       "49  [4.23423, 0.0, 0.0, 0.0, 0.0, 0.0, 0.0, 0.0, 0...   \n",
       "50  [3.29813, 0.0, 0.0, 0.0, 0.0, 0.0, 0.0, 0.0, 0...   \n",
       "\n",
       "                                           shot_clock shot_clock_end  \\\n",
       "49  [24.0, 24.0, 24.0, 24.0, 24.0, 24.0, 24.0, 24....          22.09   \n",
       "50  [12.05, 12.05, 12.05, 12.05, 12.05, 12.05, 12....          13.97   \n",
       "\n",
       "    shot_clock_start                                            team_id  \\\n",
       "49             24.00  [-1, 1610612752, 1610612752, 1610612752, 16106...   \n",
       "50             12.05  [-1, 1610612752, 1610612752, 1610612752, 16106...   \n",
       "\n",
       "                                            timestamp  \\\n",
       "49  [1414628846179, 1414628846179, 1414628846179, ...   \n",
       "50  [1414628876017, 1414628876017, 1414628876017, ...   \n",
       "\n",
       "                                                x_loc  \\\n",
       "49  [74.82868, 63.73916, 87.41793, 88.37236, 82.04...   \n",
       "50  [10.09885, 7.61414, 19.96256, 7.17221, 11.0445...   \n",
       "\n",
       "                                                y_loc  \n",
       "49  [24.15943, 36.6117, 33.56723, 16.43745, 16.401...  \n",
       "50  [34.96681, 8.61459, 34.43542, 16.63142, 34.798...  \n",
       "\n",
       "[2 rows x 24 columns]"
      ]
     },
     "execution_count": 66,
     "metadata": {},
     "output_type": "execute_result"
    }
   ],
   "source": [
    "moments_plays_utils.extract_play_moments(play=play, moments=moments)"
   ]
  },
  {
   "cell_type": "code",
   "execution_count": 67,
   "metadata": {
    "collapsed": false
   },
   "outputs": [
    {
     "data": {
      "text/html": [
       "<div>\n",
       "<table border=\"1\" class=\"dataframe\">\n",
       "  <thead>\n",
       "    <tr style=\"text-align: right;\">\n",
       "      <th></th>\n",
       "      <th>EVENTNUM</th>\n",
       "      <th>EVENTMSGTYPE</th>\n",
       "      <th>EVENTMSGACTIONTYPE</th>\n",
       "      <th>PERIOD</th>\n",
       "      <th>WCTIMESTRING</th>\n",
       "      <th>PCTIMESTRING</th>\n",
       "      <th>HOMEDESCRIPTION</th>\n",
       "      <th>NEUTRALDESCRIPTION</th>\n",
       "      <th>VISITORDESCRIPTION</th>\n",
       "      <th>SCORE</th>\n",
       "      <th>SCOREMARGIN</th>\n",
       "      <th>GAMECLOCK</th>\n",
       "    </tr>\n",
       "  </thead>\n",
       "  <tbody>\n",
       "    <tr>\n",
       "      <th>83</th>\n",
       "      <td>103</td>\n",
       "      <td>2</td>\n",
       "      <td>1</td>\n",
       "      <td>1</td>\n",
       "      <td>8:36 PM</td>\n",
       "      <td>1:56</td>\n",
       "      <td>MISS Smith 19' Jump Shot</td>\n",
       "      <td>None</td>\n",
       "      <td>None</td>\n",
       "      <td>None</td>\n",
       "      <td>None</td>\n",
       "      <td>116</td>\n",
       "    </tr>\n",
       "    <tr>\n",
       "      <th>84</th>\n",
       "      <td>104</td>\n",
       "      <td>4</td>\n",
       "      <td>0</td>\n",
       "      <td>1</td>\n",
       "      <td>8:36 PM</td>\n",
       "      <td>1:55</td>\n",
       "      <td>None</td>\n",
       "      <td>None</td>\n",
       "      <td>Gibson REBOUND (Off:0 Def:1)</td>\n",
       "      <td>None</td>\n",
       "      <td>None</td>\n",
       "      <td>115</td>\n",
       "    </tr>\n",
       "    <tr>\n",
       "      <th>85</th>\n",
       "      <td>105</td>\n",
       "      <td>1</td>\n",
       "      <td>1</td>\n",
       "      <td>1</td>\n",
       "      <td>8:36 PM</td>\n",
       "      <td>1:42</td>\n",
       "      <td>None</td>\n",
       "      <td>None</td>\n",
       "      <td>Gibson 13' Jump Shot (3 PTS) (Dunleavy 2 AST)</td>\n",
       "      <td>16 - 18</td>\n",
       "      <td>2</td>\n",
       "      <td>102</td>\n",
       "    </tr>\n",
       "  </tbody>\n",
       "</table>\n",
       "</div>"
      ],
      "text/plain": [
       "    EVENTNUM  EVENTMSGTYPE  EVENTMSGACTIONTYPE  PERIOD WCTIMESTRING  \\\n",
       "83       103             2                   1       1      8:36 PM   \n",
       "84       104             4                   0       1      8:36 PM   \n",
       "85       105             1                   1       1      8:36 PM   \n",
       "\n",
       "   PCTIMESTRING           HOMEDESCRIPTION NEUTRALDESCRIPTION  \\\n",
       "83         1:56  MISS Smith 19' Jump Shot               None   \n",
       "84         1:55                      None               None   \n",
       "85         1:42                      None               None   \n",
       "\n",
       "                               VISITORDESCRIPTION    SCORE SCOREMARGIN  \\\n",
       "83                                           None     None        None   \n",
       "84                   Gibson REBOUND (Off:0 Def:1)     None        None   \n",
       "85  Gibson 13' Jump Shot (3 PTS) (Dunleavy 2 AST)  16 - 18           2   \n",
       "\n",
       "    GAMECLOCK  \n",
       "83        116  \n",
       "84        115  \n",
       "85        102  "
      ]
     },
     "execution_count": 67,
     "metadata": {},
     "output_type": "execute_result"
    }
   ],
   "source": [
    "moments_plays_utils.extract_moment_plays(moment=moment, plays=pbp)"
   ]
  },
  {
   "cell_type": "code",
   "execution_count": null,
   "metadata": {
    "collapsed": true
   },
   "outputs": [],
   "source": []
  }
 ],
 "metadata": {
  "kernelspec": {
   "display_name": "nba2",
   "language": "python",
   "name": "nba2"
  },
  "language_info": {
   "codemirror_mode": {
    "name": "ipython",
    "version": 3
   },
   "file_extension": ".py",
   "mimetype": "text/x-python",
   "name": "python",
   "nbconvert_exporter": "python",
   "pygments_lexer": "ipython3",
   "version": "3.5.2"
  }
 },
 "nbformat": 4,
 "nbformat_minor": 2
}
