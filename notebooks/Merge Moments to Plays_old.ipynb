{
 "cells": [
  {
   "cell_type": "code",
   "execution_count": 137,
   "metadata": {
    "collapsed": true
   },
   "outputs": [],
   "source": [
    "import numpy"
   ]
  },
  {
   "cell_type": "code",
   "execution_count": 23,
   "metadata": {
    "collapsed": true
   },
   "outputs": [],
   "source": [
    "from pymongo import MongoClient"
   ]
  },
  {
   "cell_type": "code",
   "execution_count": 40,
   "metadata": {
    "collapsed": true
   },
   "outputs": [],
   "source": [
    "import pandas"
   ]
  },
  {
   "cell_type": "code",
   "execution_count": 41,
   "metadata": {
    "collapsed": true
   },
   "outputs": [],
   "source": [
    "import time"
   ]
  },
  {
   "cell_type": "code",
   "execution_count": 3,
   "metadata": {
    "collapsed": true
   },
   "outputs": [],
   "source": [
    "client = MongoClient()"
   ]
  },
  {
   "cell_type": "code",
   "execution_count": 4,
   "metadata": {
    "collapsed": true
   },
   "outputs": [],
   "source": [
    "db = client.NBASD"
   ]
  },
  {
   "cell_type": "code",
   "execution_count": 8,
   "metadata": {
    "collapsed": true
   },
   "outputs": [],
   "source": [
    "momsum_coll = db.moments_per_game\n",
    "moments_coll = db.Moments\n",
    "games_coll = db.Games"
   ]
  },
  {
   "cell_type": "code",
   "execution_count": 10,
   "metadata": {
    "collapsed": true
   },
   "outputs": [],
   "source": [
    "import pprint"
   ]
  },
  {
   "cell_type": "code",
   "execution_count": 212,
   "metadata": {
    "collapsed": false
   },
   "outputs": [],
   "source": [
    "gids = [g[\"_id\"] for g in momsum_coll.find()]"
   ]
  },
  {
   "cell_type": "code",
   "execution_count": 213,
   "metadata": {
    "collapsed": false
   },
   "outputs": [
    {
     "data": {
      "text/plain": [
       "'0021400010'"
      ]
     },
     "execution_count": 213,
     "metadata": {},
     "output_type": "execute_result"
    }
   ],
   "source": [
    "gid = gids[0]\n",
    "gid"
   ]
  },
  {
   "cell_type": "code",
   "execution_count": 109,
   "metadata": {
    "collapsed": false
   },
   "outputs": [],
   "source": [
    "game = games_coll.find_one({\"game_id\" : gid})"
   ]
  },
  {
   "cell_type": "code",
   "execution_count": 110,
   "metadata": {
    "collapsed": false
   },
   "outputs": [],
   "source": [
    "pbp = game['play_by_play']"
   ]
  },
  {
   "cell_type": "code",
   "execution_count": 111,
   "metadata": {
    "collapsed": true
   },
   "outputs": [],
   "source": [
    "PBP_HEADER = [\"GAME_ID\",\n",
    "          \"EVENTNUM\",\n",
    "          \"EVENTMSGTYPE\",\n",
    "          \"EVENTMSGACTIONTYPE\",\n",
    "          \"PERIOD\",\n",
    "          \"WCTIMESTRING\",\n",
    "          \"PCTIMESTRING\",\n",
    "          \"HOMEDESCRIPTION\",\n",
    "          \"NEUTRALDESCRIPTION\",\n",
    "          \"VISITORDESCRIPTION\",\n",
    "          \"SCORE\",\n",
    "          \"SCOREMARGIN\"]"
   ]
  },
  {
   "cell_type": "code",
   "execution_count": 112,
   "metadata": {
    "collapsed": false
   },
   "outputs": [],
   "source": [
    "def preprocessPbp(pbp):\n",
    "    pbp = pbpDict2Df(pbp)\n",
    "    pbp = addGameClock(pbp)\n",
    "    return(pbp)\n",
    "\n",
    "\n",
    "def pbpDict2Df(pbp):\n",
    "    # Build the play-by-play DataFrame from the pbp dictionary\n",
    "    p_ord = []\n",
    "    if 'play_by_play' in list(pbp.keys()):\n",
    "        for i in sorted([int(k) for k in list(pbp['play_by_play'].keys())]):\n",
    "                p_ord.append(pbp['play_by_play'][str(i)])\n",
    "    else:\n",
    "        for i in sorted([int(k) for k in list(pbp.keys())]):\n",
    "                p_ord.append(pbp[str(i)])\n",
    "    pbp = pandas.DataFrame(p_ord,\n",
    "                           columns=PBP_HEADER)\n",
    "    pbp = pbp[PBP_HEADER[1:]]\n",
    "\n",
    "    return(pbp)\n",
    "\n",
    "\n",
    "def addGameClock(pbp):\n",
    "    gc = [time2Gc(t) for t in pbp.PCTIMESTRING]\n",
    "    gc = pandas.DataFrame(data = gc,\n",
    "                          columns = ['GAMECLOCK'])\n",
    "    pbp = pbp.join(gc)\n",
    "    return(pbp)\n",
    "\n",
    "\n",
    "def time2Gc(time):\n",
    "    gc = 60 * int(time.split(':')[0]) + int(time.split(':')[1])\n",
    "    return(gc)"
   ]
  },
  {
   "cell_type": "code",
   "execution_count": 113,
   "metadata": {
    "collapsed": false
   },
   "outputs": [],
   "source": [
    "pbp = preprocessPbp(pbp)"
   ]
  },
  {
   "cell_type": "code",
   "execution_count": 114,
   "metadata": {
    "collapsed": false
   },
   "outputs": [
    {
     "data": {
      "text/html": [
       "<div>\n",
       "<table border=\"1\" class=\"dataframe\">\n",
       "  <thead>\n",
       "    <tr style=\"text-align: right;\">\n",
       "      <th></th>\n",
       "      <th>EVENTNUM</th>\n",
       "      <th>EVENTMSGTYPE</th>\n",
       "      <th>EVENTMSGACTIONTYPE</th>\n",
       "      <th>PERIOD</th>\n",
       "      <th>WCTIMESTRING</th>\n",
       "      <th>PCTIMESTRING</th>\n",
       "      <th>HOMEDESCRIPTION</th>\n",
       "      <th>NEUTRALDESCRIPTION</th>\n",
       "      <th>VISITORDESCRIPTION</th>\n",
       "      <th>SCORE</th>\n",
       "      <th>SCOREMARGIN</th>\n",
       "      <th>GAMECLOCK</th>\n",
       "    </tr>\n",
       "  </thead>\n",
       "  <tbody>\n",
       "    <tr>\n",
       "      <th>0</th>\n",
       "      <td>0</td>\n",
       "      <td>12</td>\n",
       "      <td>0</td>\n",
       "      <td>1</td>\n",
       "      <td>8:12 PM</td>\n",
       "      <td>12:00</td>\n",
       "      <td>None</td>\n",
       "      <td>None</td>\n",
       "      <td>None</td>\n",
       "      <td>None</td>\n",
       "      <td>None</td>\n",
       "      <td>720</td>\n",
       "    </tr>\n",
       "    <tr>\n",
       "      <th>1</th>\n",
       "      <td>1</td>\n",
       "      <td>10</td>\n",
       "      <td>0</td>\n",
       "      <td>1</td>\n",
       "      <td>8:12 PM</td>\n",
       "      <td>12:00</td>\n",
       "      <td>Jump Ball Dalembert vs. Gasol: Tip to Larkin</td>\n",
       "      <td>None</td>\n",
       "      <td>None</td>\n",
       "      <td>None</td>\n",
       "      <td>None</td>\n",
       "      <td>720</td>\n",
       "    </tr>\n",
       "    <tr>\n",
       "      <th>2</th>\n",
       "      <td>2</td>\n",
       "      <td>2</td>\n",
       "      <td>1</td>\n",
       "      <td>1</td>\n",
       "      <td>8:12 PM</td>\n",
       "      <td>11:39</td>\n",
       "      <td>MISS Shumpert 21' Jump Shot</td>\n",
       "      <td>None</td>\n",
       "      <td>None</td>\n",
       "      <td>None</td>\n",
       "      <td>None</td>\n",
       "      <td>699</td>\n",
       "    </tr>\n",
       "    <tr>\n",
       "      <th>3</th>\n",
       "      <td>3</td>\n",
       "      <td>4</td>\n",
       "      <td>0</td>\n",
       "      <td>1</td>\n",
       "      <td>8:12 PM</td>\n",
       "      <td>11:38</td>\n",
       "      <td>Stoudemire REBOUND (Off:1 Def:0)</td>\n",
       "      <td>None</td>\n",
       "      <td>None</td>\n",
       "      <td>None</td>\n",
       "      <td>None</td>\n",
       "      <td>698</td>\n",
       "    </tr>\n",
       "    <tr>\n",
       "      <th>4</th>\n",
       "      <td>4</td>\n",
       "      <td>2</td>\n",
       "      <td>1</td>\n",
       "      <td>1</td>\n",
       "      <td>8:13 PM</td>\n",
       "      <td>11:24</td>\n",
       "      <td>MISS Dalembert 13' Jump Shot</td>\n",
       "      <td>None</td>\n",
       "      <td>None</td>\n",
       "      <td>None</td>\n",
       "      <td>None</td>\n",
       "      <td>684</td>\n",
       "    </tr>\n",
       "  </tbody>\n",
       "</table>\n",
       "</div>"
      ],
      "text/plain": [
       "   EVENTNUM  EVENTMSGTYPE  EVENTMSGACTIONTYPE  PERIOD WCTIMESTRING  \\\n",
       "0         0            12                   0       1      8:12 PM   \n",
       "1         1            10                   0       1      8:12 PM   \n",
       "2         2             2                   1       1      8:12 PM   \n",
       "3         3             4                   0       1      8:12 PM   \n",
       "4         4             2                   1       1      8:13 PM   \n",
       "\n",
       "  PCTIMESTRING                               HOMEDESCRIPTION  \\\n",
       "0        12:00                                          None   \n",
       "1        12:00  Jump Ball Dalembert vs. Gasol: Tip to Larkin   \n",
       "2        11:39                   MISS Shumpert 21' Jump Shot   \n",
       "3        11:38              Stoudemire REBOUND (Off:1 Def:0)   \n",
       "4        11:24                  MISS Dalembert 13' Jump Shot   \n",
       "\n",
       "  NEUTRALDESCRIPTION VISITORDESCRIPTION SCORE SCOREMARGIN  GAMECLOCK  \n",
       "0               None               None  None        None        720  \n",
       "1               None               None  None        None        720  \n",
       "2               None               None  None        None        699  \n",
       "3               None               None  None        None        698  \n",
       "4               None               None  None        None        684  "
      ]
     },
     "execution_count": 114,
     "metadata": {},
     "output_type": "execute_result"
    }
   ],
   "source": [
    "pbp.head()"
   ]
  },
  {
   "cell_type": "markdown",
   "metadata": {},
   "source": [
    "### Retrieve All Moments for a Game"
   ]
  },
  {
   "cell_type": "code",
   "execution_count": 115,
   "metadata": {
    "collapsed": false
   },
   "outputs": [
    {
     "data": {
      "text/plain": [
       "'0021400010'"
      ]
     },
     "execution_count": 115,
     "metadata": {},
     "output_type": "execute_result"
    }
   ],
   "source": [
    "gid"
   ]
  },
  {
   "cell_type": "code",
   "execution_count": 146,
   "metadata": {
    "collapsed": false
   },
   "outputs": [],
   "source": [
    "moments = [m for m in moments_coll.find({'game_id': gid, 'game_clock_start' : {'$ne' : 'None'}})]"
   ]
  },
  {
   "cell_type": "code",
   "execution_count": 170,
   "metadata": {
    "collapsed": false
   },
   "outputs": [],
   "source": [
    "moments = pandas.DataFrame(moments)"
   ]
  },
  {
   "cell_type": "code",
   "execution_count": 172,
   "metadata": {
    "collapsed": false
   },
   "outputs": [
    {
     "data": {
      "text/plain": [
       "(261, 24)"
      ]
     },
     "execution_count": 172,
     "metadata": {},
     "output_type": "execute_result"
    }
   ],
   "source": [
    "moments.shape"
   ]
  },
  {
   "cell_type": "markdown",
   "metadata": {},
   "source": [
    "### Find Plays that go with Moment"
   ]
  },
  {
   "cell_type": "code",
   "execution_count": 163,
   "metadata": {
    "collapsed": false
   },
   "outputs": [],
   "source": [
    "moment = moments[50]"
   ]
  },
  {
   "cell_type": "code",
   "execution_count": 164,
   "metadata": {
    "collapsed": false
   },
   "outputs": [
    {
     "data": {
      "text/plain": [
       "119.72"
      ]
     },
     "execution_count": 164,
     "metadata": {},
     "output_type": "execute_result"
    }
   ],
   "source": [
    "moment['game_clock_start']"
   ]
  },
  {
   "cell_type": "code",
   "execution_count": 165,
   "metadata": {
    "collapsed": false
   },
   "outputs": [
    {
     "data": {
      "text/plain": [
       "91.58"
      ]
     },
     "execution_count": 165,
     "metadata": {},
     "output_type": "execute_result"
    }
   ],
   "source": [
    "moment['game_clock_end']"
   ]
  },
  {
   "cell_type": "code",
   "execution_count": 216,
   "metadata": {
    "collapsed": false
   },
   "outputs": [],
   "source": [
    "def extract_moment_plays(plays, mom):\n",
    "    return(plays[plays.apply(lambda x: x['PERIOD'] == mom['quarter'] and \\\n",
    "                  x['GAMECLOCK'] >= numpy.ceil(mom['game_clock_end']) and \\\n",
    "                  x['GAMECLOCK'] <= numpy.floor(mom['game_clock_start']), axis=1)])"
   ]
  },
  {
   "cell_type": "code",
   "execution_count": 217,
   "metadata": {
    "collapsed": false
   },
   "outputs": [
    {
     "data": {
      "text/html": [
       "<div>\n",
       "<table border=\"1\" class=\"dataframe\">\n",
       "  <thead>\n",
       "    <tr style=\"text-align: right;\">\n",
       "      <th></th>\n",
       "      <th>EVENTNUM</th>\n",
       "      <th>EVENTMSGTYPE</th>\n",
       "      <th>EVENTMSGACTIONTYPE</th>\n",
       "      <th>PERIOD</th>\n",
       "      <th>WCTIMESTRING</th>\n",
       "      <th>PCTIMESTRING</th>\n",
       "      <th>HOMEDESCRIPTION</th>\n",
       "      <th>NEUTRALDESCRIPTION</th>\n",
       "      <th>VISITORDESCRIPTION</th>\n",
       "      <th>SCORE</th>\n",
       "      <th>SCOREMARGIN</th>\n",
       "      <th>GAMECLOCK</th>\n",
       "    </tr>\n",
       "  </thead>\n",
       "  <tbody>\n",
       "    <tr>\n",
       "      <th>83</th>\n",
       "      <td>103</td>\n",
       "      <td>2</td>\n",
       "      <td>1</td>\n",
       "      <td>1</td>\n",
       "      <td>8:36 PM</td>\n",
       "      <td>1:56</td>\n",
       "      <td>MISS Smith 19' Jump Shot</td>\n",
       "      <td>None</td>\n",
       "      <td>None</td>\n",
       "      <td>None</td>\n",
       "      <td>None</td>\n",
       "      <td>116</td>\n",
       "    </tr>\n",
       "    <tr>\n",
       "      <th>84</th>\n",
       "      <td>104</td>\n",
       "      <td>4</td>\n",
       "      <td>0</td>\n",
       "      <td>1</td>\n",
       "      <td>8:36 PM</td>\n",
       "      <td>1:55</td>\n",
       "      <td>None</td>\n",
       "      <td>None</td>\n",
       "      <td>Gibson REBOUND (Off:0 Def:1)</td>\n",
       "      <td>None</td>\n",
       "      <td>None</td>\n",
       "      <td>115</td>\n",
       "    </tr>\n",
       "    <tr>\n",
       "      <th>85</th>\n",
       "      <td>105</td>\n",
       "      <td>1</td>\n",
       "      <td>1</td>\n",
       "      <td>1</td>\n",
       "      <td>8:36 PM</td>\n",
       "      <td>1:42</td>\n",
       "      <td>None</td>\n",
       "      <td>None</td>\n",
       "      <td>Gibson 13' Jump Shot (3 PTS) (Dunleavy 2 AST)</td>\n",
       "      <td>16 - 18</td>\n",
       "      <td>2</td>\n",
       "      <td>102</td>\n",
       "    </tr>\n",
       "  </tbody>\n",
       "</table>\n",
       "</div>"
      ],
      "text/plain": [
       "    EVENTNUM  EVENTMSGTYPE  EVENTMSGACTIONTYPE  PERIOD WCTIMESTRING  \\\n",
       "83       103             2                   1       1      8:36 PM   \n",
       "84       104             4                   0       1      8:36 PM   \n",
       "85       105             1                   1       1      8:36 PM   \n",
       "\n",
       "   PCTIMESTRING           HOMEDESCRIPTION NEUTRALDESCRIPTION  \\\n",
       "83         1:56  MISS Smith 19' Jump Shot               None   \n",
       "84         1:55                      None               None   \n",
       "85         1:42                      None               None   \n",
       "\n",
       "                               VISITORDESCRIPTION    SCORE SCOREMARGIN  \\\n",
       "83                                           None     None        None   \n",
       "84                   Gibson REBOUND (Off:0 Def:1)     None        None   \n",
       "85  Gibson 13' Jump Shot (3 PTS) (Dunleavy 2 AST)  16 - 18           2   \n",
       "\n",
       "    GAMECLOCK  \n",
       "83        116  \n",
       "84        115  \n",
       "85        102  "
      ]
     },
     "execution_count": 217,
     "metadata": {},
     "output_type": "execute_result"
    }
   ],
   "source": [
    "extract_moment_plays(pbp, moment)"
   ]
  },
  {
   "cell_type": "code",
   "execution_count": 214,
   "metadata": {
    "collapsed": false
   },
   "outputs": [],
   "source": [
    "def extract_play_moments(play, moments):\n",
    "    # Assume we already have all moments for the game queried\n",
    "    moment_filter = lambda mom: mom['quarter'] == play['PERIOD'] and \\\n",
    "                                play['GAMECLOCK'] >= numpy.ceil(mom['game_clock_end']) and \\\n",
    "                                play['GAMECLOCK'] <= numpy.floor(mom['game_clock_start'])\n",
    "    return(moments[moments.apply(lambda x: moment_filter(x), axis=1)])"
   ]
  },
  {
   "cell_type": "code",
   "execution_count": 215,
   "metadata": {
    "collapsed": false
   },
   "outputs": [
    {
     "data": {
      "text/html": [
       "<div>\n",
       "<table border=\"1\" class=\"dataframe\">\n",
       "  <thead>\n",
       "    <tr style=\"text-align: right;\">\n",
       "      <th></th>\n",
       "      <th>_id</th>\n",
       "      <th>away</th>\n",
       "      <th>event_id</th>\n",
       "      <th>game_clock</th>\n",
       "      <th>game_clock_end</th>\n",
       "      <th>game_clock_start</th>\n",
       "      <th>game_date</th>\n",
       "      <th>game_id</th>\n",
       "      <th>home</th>\n",
       "      <th>moment</th>\n",
       "      <th>...</th>\n",
       "      <th>player_ids_home</th>\n",
       "      <th>quarter</th>\n",
       "      <th>radius</th>\n",
       "      <th>shot_clock</th>\n",
       "      <th>shot_clock_end</th>\n",
       "      <th>shot_clock_start</th>\n",
       "      <th>team_id</th>\n",
       "      <th>timestamp</th>\n",
       "      <th>x_loc</th>\n",
       "      <th>y_loc</th>\n",
       "    </tr>\n",
       "  </thead>\n",
       "  <tbody>\n",
       "    <tr>\n",
       "      <th>49</th>\n",
       "      <td>5631532458a05c3c78db0144</td>\n",
       "      <td>Chicago Bulls</td>\n",
       "      <td>074</td>\n",
       "      <td>[133.0, 133.0, 133.0, 133.0, 133.0, 133.0, 133...</td>\n",
       "      <td>113.74</td>\n",
       "      <td>133.00</td>\n",
       "      <td>2014-10-29</td>\n",
       "      <td>0021400010</td>\n",
       "      <td>New York Knicks</td>\n",
       "      <td>[0, 0, 0, 0, 0, 0, 0, 0, 0, 0, 0, 1, 1, 1, 1, ...</td>\n",
       "      <td>...</td>\n",
       "      <td>[203499, 2405, 203112, 203501, 204037, 2546, 2...</td>\n",
       "      <td>1</td>\n",
       "      <td>[4.23423, 0.0, 0.0, 0.0, 0.0, 0.0, 0.0, 0.0, 0...</td>\n",
       "      <td>[24.0, 24.0, 24.0, 24.0, 24.0, 24.0, 24.0, 24....</td>\n",
       "      <td>22.09</td>\n",
       "      <td>24.00</td>\n",
       "      <td>[-1, 1610612752, 1610612752, 1610612752, 16106...</td>\n",
       "      <td>[1414628846179, 1414628846179, 1414628846179, ...</td>\n",
       "      <td>[74.82868, 63.73916, 87.41793, 88.37236, 82.04...</td>\n",
       "      <td>[24.15943, 36.6117, 33.56723, 16.43745, 16.401...</td>\n",
       "    </tr>\n",
       "    <tr>\n",
       "      <th>50</th>\n",
       "      <td>5631532458a05c3c78db0145</td>\n",
       "      <td>Chicago Bulls</td>\n",
       "      <td>075</td>\n",
       "      <td>[119.72, 119.72, 119.72, 119.72, 119.72, 119.7...</td>\n",
       "      <td>91.58</td>\n",
       "      <td>119.72</td>\n",
       "      <td>2014-10-29</td>\n",
       "      <td>0021400010</td>\n",
       "      <td>New York Knicks</td>\n",
       "      <td>[0, 0, 0, 0, 0, 0, 0, 0, 0, 0, 0, 1, 1, 1, 1, ...</td>\n",
       "      <td>...</td>\n",
       "      <td>[203499, 2405, 203112, 203501, 204037, 2546, 2...</td>\n",
       "      <td>1</td>\n",
       "      <td>[3.29813, 0.0, 0.0, 0.0, 0.0, 0.0, 0.0, 0.0, 0...</td>\n",
       "      <td>[12.05, 12.05, 12.05, 12.05, 12.05, 12.05, 12....</td>\n",
       "      <td>13.97</td>\n",
       "      <td>12.05</td>\n",
       "      <td>[-1, 1610612752, 1610612752, 1610612752, 16106...</td>\n",
       "      <td>[1414628876017, 1414628876017, 1414628876017, ...</td>\n",
       "      <td>[10.09885, 7.61414, 19.96256, 7.17221, 11.0445...</td>\n",
       "      <td>[34.96681, 8.61459, 34.43542, 16.63142, 34.798...</td>\n",
       "    </tr>\n",
       "  </tbody>\n",
       "</table>\n",
       "<p>2 rows × 24 columns</p>\n",
       "</div>"
      ],
      "text/plain": [
       "                         _id           away event_id  \\\n",
       "49  5631532458a05c3c78db0144  Chicago Bulls      074   \n",
       "50  5631532458a05c3c78db0145  Chicago Bulls      075   \n",
       "\n",
       "                                           game_clock  game_clock_end  \\\n",
       "49  [133.0, 133.0, 133.0, 133.0, 133.0, 133.0, 133...          113.74   \n",
       "50  [119.72, 119.72, 119.72, 119.72, 119.72, 119.7...           91.58   \n",
       "\n",
       "    game_clock_start   game_date     game_id             home  \\\n",
       "49            133.00  2014-10-29  0021400010  New York Knicks   \n",
       "50            119.72  2014-10-29  0021400010  New York Knicks   \n",
       "\n",
       "                                               moment  \\\n",
       "49  [0, 0, 0, 0, 0, 0, 0, 0, 0, 0, 0, 1, 1, 1, 1, ...   \n",
       "50  [0, 0, 0, 0, 0, 0, 0, 0, 0, 0, 0, 1, 1, 1, 1, ...   \n",
       "\n",
       "                          ...                          \\\n",
       "49                        ...                           \n",
       "50                        ...                           \n",
       "\n",
       "                                      player_ids_home quarter  \\\n",
       "49  [203499, 2405, 203112, 203501, 204037, 2546, 2...       1   \n",
       "50  [203499, 2405, 203112, 203501, 204037, 2546, 2...       1   \n",
       "\n",
       "                                               radius  \\\n",
       "49  [4.23423, 0.0, 0.0, 0.0, 0.0, 0.0, 0.0, 0.0, 0...   \n",
       "50  [3.29813, 0.0, 0.0, 0.0, 0.0, 0.0, 0.0, 0.0, 0...   \n",
       "\n",
       "                                           shot_clock shot_clock_end  \\\n",
       "49  [24.0, 24.0, 24.0, 24.0, 24.0, 24.0, 24.0, 24....          22.09   \n",
       "50  [12.05, 12.05, 12.05, 12.05, 12.05, 12.05, 12....          13.97   \n",
       "\n",
       "    shot_clock_start                                            team_id  \\\n",
       "49             24.00  [-1, 1610612752, 1610612752, 1610612752, 16106...   \n",
       "50             12.05  [-1, 1610612752, 1610612752, 1610612752, 16106...   \n",
       "\n",
       "                                            timestamp  \\\n",
       "49  [1414628846179, 1414628846179, 1414628846179, ...   \n",
       "50  [1414628876017, 1414628876017, 1414628876017, ...   \n",
       "\n",
       "                                                x_loc  \\\n",
       "49  [74.82868, 63.73916, 87.41793, 88.37236, 82.04...   \n",
       "50  [10.09885, 7.61414, 19.96256, 7.17221, 11.0445...   \n",
       "\n",
       "                                                y_loc  \n",
       "49  [24.15943, 36.6117, 33.56723, 16.43745, 16.401...  \n",
       "50  [34.96681, 8.61459, 34.43542, 16.63142, 34.798...  \n",
       "\n",
       "[2 rows x 24 columns]"
      ]
     },
     "execution_count": 215,
     "metadata": {},
     "output_type": "execute_result"
    }
   ],
   "source": [
    "extract_play_moments(pbp.ix[83], moments)"
   ]
  },
  {
   "cell_type": "code",
   "execution_count": 185,
   "metadata": {
    "collapsed": false
   },
   "outputs": [
    {
     "data": {
      "text/plain": [
       "Collection(Database(MongoClient(host=['localhost:27017'], document_class=dict, tz_aware=False, connect=True), 'NBASD'), 'Moments')"
      ]
     },
     "execution_count": 185,
     "metadata": {},
     "output_type": "execute_result"
    }
   ],
   "source": [
    "db['Moments']"
   ]
  },
  {
   "cell_type": "code",
   "execution_count": 209,
   "metadata": {
    "collapsed": true
   },
   "outputs": [],
   "source": [
    "class mongo_open:\n",
    "    \n",
    "    def __init__(self, db_name, coll_name):\n",
    "        self.db_name = db_name\n",
    "        self.coll_name = coll_name\n",
    "    \n",
    "    def __enter__(self,):\n",
    "        self.client = MongoClient()\n",
    "        self.db = self.client[self.db_name]\n",
    "        self.coll = self.db[self.coll_name]\n",
    "        return(self)\n",
    "    \n",
    "    def __exit__(self, exc_type, exc_value, traceback):\n",
    "        self.client.close()        \n",
    "    \n",
    "    def query(self, conditions, fields={}):\n",
    "        return(self.coll.find(conditions, fields))"
   ]
  },
  {
   "cell_type": "code",
   "execution_count": 196,
   "metadata": {
    "collapsed": false
   },
   "outputs": [
    {
     "name": "stdout",
     "output_type": "stream",
     "text": [
      "211045\n"
     ]
    }
   ],
   "source": [
    "with mongo_open('NBASD', 'Moments') as f1:\n",
    "    print(f1.coll.count())"
   ]
  },
  {
   "cell_type": "code",
   "execution_count": 210,
   "metadata": {
    "collapsed": false
   },
   "outputs": [],
   "source": [
    "with mongo_open('NBASD', 'Moments') as conn:\n",
    "    m2 = [m for m in conn.query({'game_id': gid,\n",
    "                                 'game_clock_start' : {'$ne' : 'None'}})]"
   ]
  },
  {
   "cell_type": "code",
   "execution_count": 211,
   "metadata": {
    "collapsed": false
   },
   "outputs": [
    {
     "data": {
      "text/plain": [
       "261"
      ]
     },
     "execution_count": 211,
     "metadata": {},
     "output_type": "execute_result"
    }
   ],
   "source": [
    "len(m2)"
   ]
  },
  {
   "cell_type": "code",
   "execution_count": null,
   "metadata": {
    "collapsed": true
   },
   "outputs": [],
   "source": []
  }
 ],
 "metadata": {
  "kernelspec": {
   "display_name": "nba2",
   "language": "python",
   "name": "nba2"
  },
  "language_info": {
   "codemirror_mode": {
    "name": "ipython",
    "version": 3
   },
   "file_extension": ".py",
   "mimetype": "text/x-python",
   "name": "python",
   "nbconvert_exporter": "python",
   "pygments_lexer": "ipython3",
   "version": "3.5.2"
  }
 },
 "nbformat": 4,
 "nbformat_minor": 2
}
